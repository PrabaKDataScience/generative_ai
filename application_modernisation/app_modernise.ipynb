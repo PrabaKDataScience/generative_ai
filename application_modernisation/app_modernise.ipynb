{
 "cells": [
  {
   "cell_type": "code",
   "execution_count": 1,
   "metadata": {},
   "outputs": [],
   "source": [
    "import openai\n",
    "from dotenv import load_dotenv\n",
    "load_dotenv()\n",
    "import os\n",
    "OPENAI_API_KEY = os.getenv('OPENAI_API_KEY')"
   ]
  },
  {
   "cell_type": "code",
   "execution_count": 2,
   "metadata": {},
   "outputs": [
    {
     "name": "stdout",
     "output_type": "stream",
     "text": [
      "ChatCompletionMessage(content='Hello! How can I assist you today?', role='assistant', function_call=None, tool_calls=None)\n"
     ]
    }
   ],
   "source": [
    "from openai import OpenAI\n",
    "client = OpenAI(api_key=OPENAI_API_KEY)\n",
    "\n",
    "completion = client.chat.completions.create(\n",
    "  model=\"gpt-3.5-turbo\",\n",
    "  messages=[\n",
    "    {\"role\": \"system\", \"content\": \"You are a helpful assistant.\"},\n",
    "    {\"role\": \"user\", \"content\": \"Hello!\"}\n",
    "  ]\n",
    ")\n",
    "\n",
    "print(completion.choices[0].message)\n"
   ]
  },
  {
   "cell_type": "code",
   "execution_count": 33,
   "metadata": {},
   "outputs": [],
   "source": [
    "from openai import OpenAI\n",
    "\n",
    "client = OpenAI(api_key=open_ai_key)\n",
    "\n",
    "stream = client.chat.completions.create(\n",
    "    model=\"gpt-3.5-turbo\",\n",
    "    messages=[\n",
    "    {\"role\": \"system\", \"content\": \"You are good java programmer\"},\n",
    "    {\"role\": \"user\", \"content\": \"create a calculator application for me.\"}\n",
    "  ]\n",
    "    )\n"
   ]
  },
  {
   "cell_type": "code",
   "execution_count": 40,
   "metadata": {},
   "outputs": [
    {
     "name": "stdout",
     "output_type": "stream",
     "text": [
      "(\"Sure, I can help you create a calculator application in Java. Here's a basic \"\n",
      " 'implementation of a calculator that can perform addition, subtraction, '\n",
      " 'multiplication, and division operations:\\n'\n",
      " '\\n'\n",
      " '```java\\n'\n",
      " 'import java.util.Scanner;\\n'\n",
      " '\\n'\n",
      " 'public class Calculator {\\n'\n",
      " '  \\n'\n",
      " '    public static void main(String[] args) {\\n'\n",
      " '        Scanner scanner = new Scanner(System.in);\\n'\n",
      " '        \\n'\n",
      " '        System.out.print(\"Enter the first number: \");\\n'\n",
      " '        double num1 = scanner.nextDouble();\\n'\n",
      " '        \\n'\n",
      " '        System.out.print(\"Enter the second number: \");\\n'\n",
      " '        double num2 = scanner.nextDouble();\\n'\n",
      " '        \\n'\n",
      " '        System.out.println(\"Select an operation:\");\\n'\n",
      " '        System.out.println(\"1. Addition\");\\n'\n",
      " '        System.out.println(\"2. Subtraction\");\\n'\n",
      " '        System.out.println(\"3. Multiplication\");\\n'\n",
      " '        System.out.println(\"4. Division\");\\n'\n",
      " '        \\n'\n",
      " '        System.out.print(\"Enter your choice (1-4): \");\\n'\n",
      " '        int choice = scanner.nextInt();\\n'\n",
      " '        \\n'\n",
      " '        double result = 0;\\n'\n",
      " '        \\n'\n",
      " '        switch (choice) {\\n'\n",
      " '            case 1:\\n'\n",
      " '                result = num1 + num2;\\n'\n",
      " '                break;\\n'\n",
      " '            case 2:\\n'\n",
      " '                result = num1 - num2;\\n'\n",
      " '                break;\\n'\n",
      " '            case 3:\\n'\n",
      " '                result = num1 * num2;\\n'\n",
      " '                break;\\n'\n",
      " '            case 4:\\n'\n",
      " '                if (num2 != 0) {\\n'\n",
      " '                    result = num1 / num2;\\n'\n",
      " '                } else {\\n'\n",
      " '                    System.out.println(\"Error: Cannot divide by zero!\");\\n'\n",
      " '                    return;\\n'\n",
      " '                }\\n'\n",
      " '                break;\\n'\n",
      " '            default:\\n'\n",
      " '                System.out.println(\"Invalid choice!\");\\n'\n",
      " '                return;\\n'\n",
      " '        }\\n'\n",
      " '        \\n'\n",
      " '        System.out.println(\"Result: \" + result);\\n'\n",
      " '    }\\n'\n",
      " '}\\n'\n",
      " '```\\n'\n",
      " '\\n'\n",
      " \"In this calculator, you'll be prompted to enter two numbers and select an \"\n",
      " 'operation (1 for addition, 2 for subtraction, 3 for multiplication, or 4 for '\n",
      " 'division). The calculator will then perform the selected operation and '\n",
      " 'display the result.\\n'\n",
      " '\\n'\n",
      " 'You can run this program and try it out on your own machine. Let me know if '\n",
      " 'you need any further assistance or if you have any specific requirements.')\n"
     ]
    }
   ],
   "source": [
    "import pprint\n",
    "pprint.pprint(stream.choices[0].message.content)"
   ]
  },
  {
   "cell_type": "code",
   "execution_count": 39,
   "metadata": {},
   "outputs": [],
   "source": [
    "import re\n",
    "\n",
    "def extract_and_store_code(chatcompletion_object, output_file_path):\n",
    "    # Assuming chatcompletion_object has a 'message' attribute containing the code\n",
    "    message = stream.choices[0].message.content\n",
    "\n",
    "    # Use a regular expression to extract Java code (adjust this based on your message structure)\n",
    "    code_match = re.search(r'```java\\n(.*?)\\n```', message, re.DOTALL)\n",
    "\n",
    "    if code_match:\n",
    "        extracted_code = code_match.group(1)\n",
    "\n",
    "        # Write the extracted code to a new file\n",
    "        with open(output_file_path, 'w') as output_file:\n",
    "            output_file.write(extracted_code)\n",
    "\n",
    "# Example usage\n",
    "chatcompletion_obj = stream\n",
    "output_file_path = 'output_code.py'\n",
    "extract_and_store_code(chatcompletion_obj, output_file_path)\n"
   ]
  },
  {
   "cell_type": "code",
   "execution_count": 47,
   "metadata": {},
   "outputs": [
    {
     "data": {
      "text/plain": [
       "'import java.util.Scanner;public class Calculator {public static void main(String[] args) {Scanner scanner = new Scanner(System.in);System.out.print(\"Enter the first number: \");double num1 = scanner.nextDouble();System.out.print(\"Enter the second number: \");double num2 = scanner.nextDouble();System.out.println(\"Select an operation:\");System.out.println(\"1. Addition\");System.out.println(\"2. Subtraction\");System.out.println(\"3. Multiplication\");System.out.println(\"4. Division\");System.out.print(\"Enter your choice (1-4): \");int choice = scanner.nextInt();double result = 0;switch (choice) {case 1:result = num1 + num2;break;case 2:result = num1 - num2;break;case 3:result = num1 * num2;break;case 4:if (num2 != 0) {result = num1 / num2;} else {System.out.println(\"Error: Cannot divide by zero!\");return;}break;default:System.out.println(\"Invalid choice!\");return;}System.out.println(\"Result: \" + result);}}'"
      ]
     },
     "execution_count": 47,
     "metadata": {},
     "output_type": "execute_result"
    }
   ],
   "source": [
    "with open('java_calculator.java','r') as f:\n",
    "    lines = [line.strip() for line in f.readlines()]\n",
    "\n",
    "out = ''.join(lines)\n",
    "out"
   ]
  },
  {
   "cell_type": "code",
   "execution_count": 48,
   "metadata": {},
   "outputs": [],
   "source": [
    "\n",
    "chat_comp_2 = client.chat.completions.create(\n",
    "    model=\"gpt-3.5-turbo\",\n",
    "    messages=[\n",
    "    {\"role\": \"system\", \"content\": \"You are good java programmer\"},\n",
    "    {\"role\": \"user\", \"content\": f\"read the java code {out} and convert the code to python\"}\n",
    "  ]\n",
    "    )"
   ]
  },
  {
   "cell_type": "code",
   "execution_count": 49,
   "metadata": {},
   "outputs": [
    {
     "name": "stdout",
     "output_type": "stream",
     "text": [
      "('import sys\\n'\n",
      " '\\n'\n",
      " 'print(\"Enter the first number: \")\\n'\n",
      " 'num1 = float(input())\\n'\n",
      " '\\n'\n",
      " 'print(\"Enter the second number: \")\\n'\n",
      " 'num2 = float(input())\\n'\n",
      " '\\n'\n",
      " 'print(\"Select an operation:\")\\n'\n",
      " 'print(\"1. Addition\")\\n'\n",
      " 'print(\"2. Subtraction\")\\n'\n",
      " 'print(\"3. Multiplication\")\\n'\n",
      " 'print(\"4. Division\")\\n'\n",
      " 'print(\"Enter your choice (1-4): \")\\n'\n",
      " 'choice = int(input())\\n'\n",
      " '\\n'\n",
      " 'result = 0\\n'\n",
      " '\\n'\n",
      " 'if choice == 1:\\n'\n",
      " '    result = num1 + num2\\n'\n",
      " 'elif choice == 2:\\n'\n",
      " '    result = num1 - num2\\n'\n",
      " 'elif choice == 3:\\n'\n",
      " '    result = num1 * num2\\n'\n",
      " 'elif choice == 4:\\n'\n",
      " '    if num2 != 0:\\n'\n",
      " '        result = num1 / num2\\n'\n",
      " '    else:\\n'\n",
      " '        print(\"Error: Cannot divide by zero!\")\\n'\n",
      " '        sys.exit(1)\\n'\n",
      " 'else:\\n'\n",
      " '    print(\"Invalid choice!\")\\n'\n",
      " '    sys.exit(1)\\n'\n",
      " '\\n'\n",
      " 'print(\"Result: \", result)')\n"
     ]
    }
   ],
   "source": [
    "import pprint\n",
    "pprint.pprint(chat_comp_2.choices[0].message.content)"
   ]
  },
  {
   "cell_type": "code",
   "execution_count": 50,
   "metadata": {},
   "outputs": [],
   "source": [
    "with open('output.py', 'w') as output_file:\n",
    "            output_file.write(chat_comp_2.choices[0].message.content)"
   ]
  },
  {
   "cell_type": "code",
   "execution_count": null,
   "metadata": {},
   "outputs": [],
   "source": [
    "import re\n",
    "\n",
    "def extract_and_store_code(chatcompletion_object, output_file_path):\n",
    "    # Assuming chatcompletion_object has a 'message' attribute containing the code\n",
    "    message = stream.choices[0].message.content\n",
    "\n",
    "    # Use a regular expression to extract Java code (adjust this based on your message structure)\n",
    "    code_match = re.search(r'```java\\n(.*?)\\n```', message, re.DOTALL)\n",
    "\n",
    "    if code_match:\n",
    "        extracted_code = code_match.group(1)\n",
    "\n",
    "        # Write the extracted code to a new file\n",
    "        with open(output_file_path, 'w') as output_file:\n",
    "            output_file.write(extracted_code)\n",
    "\n",
    "# Example usage\n",
    "chatcompletion_obj = stream\n",
    "output_file_path = 'output_code.py'\n",
    "extract_and_store_code(chatcompletion_obj, output_file_path)"
   ]
  }
 ],
 "metadata": {
  "kernelspec": {
   "display_name": "venv",
   "language": "python",
   "name": "python3"
  },
  "language_info": {
   "codemirror_mode": {
    "name": "ipython",
    "version": 3
   },
   "file_extension": ".py",
   "mimetype": "text/x-python",
   "name": "python",
   "nbconvert_exporter": "python",
   "pygments_lexer": "ipython3",
   "version": "3.9.12"
  }
 },
 "nbformat": 4,
 "nbformat_minor": 2
}
